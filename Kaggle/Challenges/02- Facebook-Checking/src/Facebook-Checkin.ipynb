"""
Today, you will work on a real Kaggle project, submitted by Facebook in order recruit data scientists nerd_face
About Facebook Check In

Facebook application has a "Check In" feature, offering users to share their location. When you check in, Facebook automatically suggests a list of places.

For example, if we want to check in from the classroom location, here is what Facebook suggests (me):

The Challenge

For the purposes of this competition, Facebook created an artificial world consisting of more than 100,000 places (businesses, attractions, locations ,etc.) located in a 10 km by 10 km square.

Facebook CheckIn

    The goal is to predict - based on the location of an user, of the accuracy of the location, of the timestamp, etc. - which place a person would like to check in to. round_pushpin

More precisely, for a given set of coordinates, your task is to return a ranked list of the most likely places. Data was fabricated to resemble location signals coming from mobile devices, giving you a flavor of what it takes to work with real data complicated by inaccurate and noisy values. Inconsistent and erroneous location data can disrupt experience for services like Facebook Check In.
File descriptions

train.csv, test.csv:

    row_id: id of the check-in event
    x, y: coordinates
    accuracy: location accuracy
    time: timestamp
    place_id: id of the business, this is the target you are predicting

sample_submission.csv - a sample submission file in the correct format with random predictions

The train and test dataset are split based on time, and the public/private leaderboard in the test data are split randomly. There is no concept of a person in this dataset. All the row_id's are events, not people.

    flashlight Hint: Some of the columns, such as time and accuracy, are intentionally left vague in their definitions. Consider them as part of the challenge.

Your turn!

You're on your own now! Start by creating a Kaggle account, read carefully the project description and get started.

Build efficient predictive models and submit your results along the day

"""
