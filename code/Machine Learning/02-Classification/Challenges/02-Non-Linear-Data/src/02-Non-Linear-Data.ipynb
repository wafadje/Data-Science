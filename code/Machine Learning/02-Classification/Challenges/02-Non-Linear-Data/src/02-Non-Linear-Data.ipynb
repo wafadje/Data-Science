{
 "cells": [
  {
   "cell_type": "markdown",
   "metadata": {},
   "source": [
    "# Exploring non linear data ⏺"
   ]
  },
  {
   "cell_type": "markdown",
   "metadata": {},
   "source": [
    "---"
   ]
  },
  {
   "cell_type": "markdown",
   "metadata": {},
   "source": [
    "<img width=800px src=\"https://c.pxhere.com/photos/ae/84/building_facade_architecture_hole_basel_opening_places_of_interest_event_hall-888209.jpg!d\">"
   ]
  },
  {
   "cell_type": "markdown",
   "metadata": {},
   "source": [
    "---"
   ]
  },
  {
   "cell_type": "markdown",
   "metadata": {},
   "source": [
    "In this exercice, we will deal with data that is not **linearly separable** (which means that we can separate classes with a line). We will see it's make it more difficult for models to fit it and explore a few options to tackle that.\n",
    "\n",
    "First, we load the data for you using `make_circles` built-in function from scikit-learn."
   ]
  },
  {
   "cell_type": "code",
   "execution_count": 1,
   "metadata": {
    "scrolled": true
   },
   "outputs": [
    {
     "data": {
      "text/plain": [
       "((100, 2), (100,))"
