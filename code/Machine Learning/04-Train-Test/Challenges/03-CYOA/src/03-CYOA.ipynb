{
 "cells": [
  {
   "cell_type": "markdown",
   "metadata": {},
   "source": [
    "# 03 - Choose Your Own Algorithm 🚪"
   ]
  },
  {
   "cell_type": "markdown",
   "metadata": {},
   "source": [
    "---"
   ]
  },
  {
   "cell_type": "markdown",
   "metadata": {},
   "source": [
    "<img src=\"https://jackeygao.io/uploads/images/redirects.jpeg\" />\n",
    "\n",
    "Photo by [Javier Allegue Baros](https://unsplash.com/@soymeraki)"
   ]
  },
  {
   "cell_type": "markdown",
   "metadata": {},
   "source": [
    "---"
   ]
  },
  {
   "cell_type": "markdown",
   "metadata": {},
   "source": [
    "In this challenge, you will implement an algorithm of your choice for solving **Wisconsin Breast Cancer** classification problem.\n",
    "\n",
    "In order to obtain **reproducible** results, you will:\n",
    "> - set the Numpy random seed to 0 (`np.random.seed(0)`)\n",
    "> - split randomly the dataset with 80% for training and 20% for test (and specify the `random_state` to 0)"
   ]
  },
  {
   "cell_type": "code",
   "execution_count": 12,
   "metadata": {},
   "outputs": [],
   "source": [
    "import numpy as np\n",
    "import pandas as pd\n",
    "from matplotlib import pyplot as plt\n",
    "from sklearn.model_selection import train_test_split\n",
    "from sklearn.datasets import load_breast_cancer\n",
    "\n",
    "np.random.seed(0)\n",
    "data = load_breast_cancer()\n",
    "target = data.target\n",
    "names = data.feature_names\n",
    "\n",
    "X = pd.DataFrame(data.data, columns = names)\n",
    "y = pd.DataFrame(data.target, columns = [\"target\"] )\n",
    "\n",
    "X_train, X_test, y_train, y_test = train_test_split(X, y, test_size=0.2, random_state=0)"
   ]
  },
  {
   "cell_type": "markdown",
   "metadata": {},
   "source": [
    "**Q1**. In this challenge you will work in pairs 🦞 First, choose an algorithm of your choice (different from your paired student), you can pick between :\n",
    "- k-Nearest Neighbbors\n",
    "- Decision Tree classifier\n",
    "- Adaboost"
   ]
  },
  {
   "cell_type": "code",
   "execution_count": 14,
   "metadata": {},
   "outputs": [
    {
     "data": {
      "text/plain": [
       "0.9122807017543859"
      ]
     },
     "execution_count": 14,
     "metadata": {},
     "output_type": "execute_result"
    }
   ],
   "source": [
    "from sklearn.tree import DecisionTreeClassifier\n",
    "clf = DecisionTreeClassifier(random_state=0)\n",
    "clf.fit(X_train, y_train)\n",
    "y_pred = clf.predict(X_test)\n",
    "acc = clf.score(X_test, y_test)\n",
    "acc\n",
    "#cross_val_score(clf, iris.data, iris.target, cv=10)"
   ]
  },
  {
   "cell_type": "markdown",
   "metadata": {},
   "source": [
    "**Q2**. Do some research, explore scikit-learn documentation. Explain the model to your paired."
   ]
  },
  {
   "cell_type": "markdown",
   "metadata": {},
   "source": [
    "**Q3**. Prepare your data, train your model and retrieve predictions.\n",
    "\n",
    "What accuracy do you obtain? Compare with your binom and discuss."
   ]
  },
  {
   "cell_type": "code",
   "execution_count": 23,
   "metadata": {},
   "outputs": [
    {
     "data": {
      "text/plain": [
       "0.9209290832715591"
      ]
     },
     "execution_count": 23,
     "metadata": {},
     "output_type": "execute_result"
    }
   ],
   "source": [
    "from sklearn.model_selection import cross_val_score\n",
    "a = cross_val_score(clf, data.data, data.target, cv=2)\n",
    "score  = a.mean()\n",
    "score"
   ]
  },
  {
   "cell_type": "code",
   "execution_count": null,
   "metadata": {},
   "outputs": [],
   "source": []
  }
 ],
 "metadata": {
  "kernelspec": {
   "display_name": "Python 3",
   "language": "python",
   "name": "python3"
  },
  "language_info": {
   "codemirror_mode": {
    "name": "ipython",
    "version": 3
   },
   "file_extension": ".py",
   "mimetype": "text/x-python",
   "name": "python",
   "nbconvert_exporter": "python",
   "pygments_lexer": "ipython3",
   "version": "3.6.5"
  }
 },
 "nbformat": 4,
 "nbformat_minor": 2
}
