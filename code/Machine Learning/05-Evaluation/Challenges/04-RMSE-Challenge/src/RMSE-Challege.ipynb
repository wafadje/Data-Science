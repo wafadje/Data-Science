"""
## Challenge 04 - Housing RMSE Challenge 🏆

---

![](https://webdata-solutions.com/wp-content/uploads/2018/12/header-voting-for-blackbee-german-ecommerce-awards.jpg)

Photo by [Fauzan Saari](https://unsplash.com/@fznsr_)

### Instructions

Remember when we fitted a **Multivariate Linear Regression** model to our Californian housing dataset? 🏘

Go back to this notebook, or duplicate your work in `src` directory, and use all this week's learnings to improve your model to the highest performance.

More precisely, you will focus on evaluating properly your model and improve it in order to reach the **best Root Mean Squared Error**.

> 🔦 **Hint**: Remember that a simple model fed with clean and insightful data (with smart features for example) will probably perform better than another complex algorithm

Good luck! 👊



"""
