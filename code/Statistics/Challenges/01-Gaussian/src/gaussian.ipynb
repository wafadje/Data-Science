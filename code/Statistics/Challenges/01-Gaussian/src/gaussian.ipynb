{
 "cells": [
  {
   "cell_type": "markdown",
   "metadata": {},
   "source": [
    "# 03-05\n",
    "\n",
    "# Challenge 01 - Gaussian\n",
    "![](https://3qeqpr26caki16dnhd19sv6by6v-wpengine.netdna-ssl.com/wp-content/uploads/2018/03/Line-Plot-of-Gaussian-Distribution-1024x768.png)"
   ]
  },
  {
   "cell_type": "markdown",
   "metadata": {},
   "source": [
    "Let's explore the Gaussian distribution! \n",
    "\n",
    "- First, we'll plot a gaussian distribution using NumPy."
   ]
  },
  {
   "cell_type": "code",
   "execution_count": 2,
   "metadata": {},
   "outputs": [],
   "source": [
    "# TODO: import numpy and matplotlib\n",
    "import numpy as np\n",
    "from matplotlib import pyplot as plt"
   ]
  },
  {
   "cell_type": "code",
   "execution_count": 3,
   "metadata": {},
   "outputs": [
    {
     "data": {
      "text/plain": [
       "array([-2.91189981e-01, -8.44928274e-03, -7.96613277e-01, -1.48107605e+00,\n",
       "        5.78779662e-01,  1.51278295e-03,  6.52598387e-02,  1.21813226e+00,\n",
       "        2.83601318e-01,  4.44963549e-01, -8.07677559e-01,  1.10641056e+00,\n",
       "       -1.30095948e+00,  1.03426799e+00,  4.79955377e-02,  8.36516925e-01,\n",
       "       -2.57680818e-01,  1.98340743e+00,  6.48898424e-01, -2.92725903e-01,\n",
       "       -1.20913447e+00,  1.13099454e+00, -9.85073544e-01,  4.27231004e-01,\n",
       "        7.19979853e-01, -1.39647729e+00,  2.82049799e-01,  1.27220848e+00,\n",
       "       -7.40603777e-01, -8.11173322e-01,  1.20284896e+00,  3.94938868e-01,\n",
       "       -1.23166441e-01, -7.14210317e-01, -9.44883092e-01, -3.15889268e-01,\n",
       "       -1.46735947e+00,  1.86830133e-02, -1.54065528e+00,  5.91279509e-01,\n",
       "       -2.10828598e-01, -9.72321158e-01,  6.00241980e-01,  8.13438320e-01,\n",
       "        1.30671131e+00, -1.28622268e+00, -7.47085357e-01, -6.14411811e-01,\n",
       "       -1.03723025e+00, -6.03794628e-01, -9.70377857e-01,  4.19101428e-01,\n",
       "       -5.37343533e-01,  2.35761028e-01, -3.47871310e-01, -1.25355898e+00,\n",
       "       -1.78062263e-01,  1.35310268e-01, -3.06359316e-01, -1.64815357e+00,\n",
       "       -1.07647615e-01, -2.60120769e+00,  6.80904681e-01, -1.92805591e+00,\n",
       "       -4.51302372e-01, -3.51311299e-01,  1.72342628e+00, -8.49309563e-01,\n",
       "        1.07770252e+00, -7.14962230e-01, -3.18889425e-01, -2.34576727e-01,\n",
       "       -1.66361218e-01,  4.40199772e-02,  8.17986199e-01,  3.75939378e-02,\n",
       "        2.99651739e-01,  1.19063847e+00,  9.02097602e-02, -1.37398817e+00,\n",
       "       -8.60428449e-01, -2.10002241e+00, -3.53060739e-01,  7.17078476e-02,\n",
       "       -1.12376847e+00, -6.42229432e-01,  2.12491694e-01,  2.13138490e+00,\n",
       "        1.45848403e+00,  8.62437993e-01,  3.09811037e+00,  4.59707512e-02,\n",
       "       -9.94859410e-01, -1.82846931e+00,  5.08704134e-01, -8.62404916e-01,\n",
       "       -1.21585376e-02,  4.23644926e-01,  5.75268324e-01,  3.26211693e-01,\n",
       "        1.76986431e+00,  2.90927102e-01, -1.11138649e-01, -2.86305419e-01,\n",
       "       -1.37028302e+00, -7.77113815e-01,  6.24007918e-01, -2.19832761e-01,\n",
       "        1.08636522e+00,  7.71802885e-01, -1.49030739e-01, -1.25320208e+00,\n",
       "        2.63582845e-01,  1.84781324e-01,  1.60516933e+00, -6.54652165e-01,\n",
       "        1.52409124e+00,  7.19681329e-01, -1.10541337e+00,  7.47667392e-01,\n",
       "        4.04851228e-01,  1.84857057e-01,  9.34788113e-01,  1.80397107e+00,\n",
       "        2.11673492e+00,  1.16921446e+00, -8.00438018e-01, -1.71562862e-01,\n",
       "        3.55492084e-01,  5.72786882e-01, -7.92309580e-01, -7.17781361e-01,\n",
       "       -7.35154695e-01,  1.71715355e+00,  1.21794838e+00,  4.25987010e-01,\n",
       "       -2.16646659e-01,  3.76737962e-01, -6.62949957e-01, -1.77048559e+00,\n",
       "        9.33534405e-01, -7.72476311e-01, -1.06090407e+00,  8.43579051e-01,\n",
       "       -1.23443033e+00,  4.69686320e-01,  8.51280252e-01, -4.32631880e-02,\n",
       "       -1.27694486e+00, -5.23006088e-01,  1.87055552e+00, -3.88342343e-01,\n",
       "       -1.05318062e+00,  9.18480487e-02, -6.49657006e-02, -4.79009732e-01,\n",
       "       -1.15527399e+00, -8.24271092e-01,  4.75061333e-01,  2.81842798e-01,\n",
       "       -1.75564203e-01, -1.56632892e+00, -6.97503376e-02, -1.11719009e+00,\n",
       "        1.11178086e+00,  1.47065511e+00, -3.31822827e-01,  4.53955453e-01,\n",
       "       -1.74920778e+00, -6.19155324e-02,  4.58333752e-01,  1.72445198e+00,\n",
       "       -7.93415220e-01,  2.98136074e-02,  5.79261965e-01,  7.33727757e-01,\n",
       "        1.54037383e+00, -2.68494259e-01, -9.77018005e-01, -2.99983607e-01,\n",
       "       -1.52290760e+00,  4.75405402e-01,  1.19894888e+00, -9.23994054e-01,\n",
       "        2.04221020e+00,  1.71431095e+00, -1.96323739e-01, -5.18316052e-01,\n",
       "       -5.40799470e-01, -3.10750444e-01, -6.48621904e-01,  7.97572529e-01,\n",
       "       -3.99320610e-02, -9.79938283e-01, -1.02052135e+00,  9.86842526e-01,\n",
       "       -9.44515919e-01,  9.21975339e-01, -1.25708704e+00, -1.39442846e-01,\n",
       "       -1.45827405e+00,  3.05888242e-01,  2.07329481e-01,  3.50014115e-01,\n",
       "       -5.04582184e-01,  5.00138233e-01, -8.47515539e-01,  1.18432966e+00,\n",
       "       -1.85470717e+00, -7.80421848e-02,  7.09674989e-01, -1.46596361e+00,\n",
       "       -9.70720223e-02,  1.49958206e+00, -2.86550952e-01,  2.14169109e-01,\n",
       "       -1.25451963e+00, -4.43469441e-01, -1.11953289e+00, -1.22076695e+00,\n",
       "       -1.08424665e+00, -8.38884230e-01, -3.65024177e-01, -1.40268803e+00,\n",
       "       -3.77362150e-01,  8.92425804e-02, -5.76385412e-01,  8.48179196e-01,\n",
       "       -8.21771763e-01, -5.63819914e-01, -4.91883827e-01, -8.03563355e-02,\n",
       "        6.39487669e-01, -4.90831025e-01, -9.22197450e-01,  1.84331391e-01,\n",
       "        2.08769877e-01,  4.69802161e-01, -5.93575053e-01, -1.34298631e+00,\n",
       "        7.11138069e-01, -1.43965274e+00, -1.90304588e-02, -9.75150432e-01,\n",
       "        3.86196559e-01,  1.26696668e+00, -1.34996649e+00, -7.64214549e-01,\n",
       "        1.54427613e+00, -4.39938047e-01,  2.16884639e-01,  2.74949264e-01,\n",
       "       -2.01150817e-01,  2.31620911e-01,  1.61733634e+00, -1.55926912e-01,\n",
       "        1.11265201e+00,  1.12795279e+00,  3.25740339e-01,  8.60850076e-02,\n",
       "       -9.48177298e-01, -9.40863532e-01, -5.21608660e-01, -9.81100456e-01,\n",
       "        1.73369137e-01, -3.27249852e-01, -3.76403390e-01,  1.11333303e-02,\n",
       "        1.87481216e-02,  1.02169565e+00, -4.86303907e-01,  5.25300522e-01,\n",
       "        7.37417642e-01,  8.51472783e-01,  9.38753174e-01, -4.51611763e-01,\n",
       "        4.82161993e-01,  9.35477258e-01,  4.02979255e-01,  1.34597730e-01,\n",
       "       -4.43837280e-01,  3.79427972e-01, -1.20355432e+00,  4.36055419e-01,\n",
       "        1.13556546e+00,  5.01596948e-01,  1.88264309e-01,  1.77099040e+00,\n",
       "        9.06782935e-01, -1.29926152e+00,  1.70018330e+00,  5.10629899e-01,\n",
       "        1.24871121e-01, -2.89574541e-01, -1.23870505e+00,  2.22890857e+00,\n",
       "       -1.01949882e+00, -1.31580435e+00,  7.72719671e-01, -1.45732585e+00,\n",
       "        1.55691301e+00, -1.14506908e+00,  1.51975480e-01,  1.70722932e-01,\n",
       "       -2.58492457e-01, -7.08111096e-01,  2.20494360e-01, -1.59988058e+00,\n",
       "       -8.51292077e-01, -8.66627083e-01, -2.95805052e-01, -8.61333942e-01,\n",
       "        4.03275286e-02, -2.76843626e-01,  5.08870969e-01, -9.04194600e-01,\n",
       "        9.47632721e-01, -1.55457187e+00, -4.14456496e-01,  2.23134965e-01,\n",
       "        6.00685591e-01, -1.49837810e+00,  1.05903182e+00, -1.34357266e+00,\n",
       "        5.27960624e-01, -1.38625419e+00, -1.23610974e+00, -1.06423530e+00,\n",
       "       -1.08124938e+00,  1.38659043e-01, -1.50553427e+00, -2.41769783e-01,\n",
       "        7.03278050e-01,  1.10404382e+00,  3.85313390e-01,  6.80536897e-02,\n",
       "        3.44194459e-01, -5.04621199e-01,  5.33585425e-02,  8.32282273e-01,\n",
       "        1.27987705e+00, -4.90509741e-01,  1.29817185e-01,  3.58716869e-01,\n",
       "        3.58009740e-01, -3.82077180e-01,  2.48294302e+00, -4.12287554e-01,\n",
       "       -3.44463878e-01, -4.27213330e-01,  6.80944785e-01, -1.12390888e+00,\n",
       "        2.27057318e+00,  9.04335149e-01, -1.61313257e+00,  5.85120032e-01,\n",
       "        7.09974493e-02, -1.61657313e+00, -3.51720753e-02,  9.96112667e-01,\n",
       "       -1.73307605e+00,  7.87091017e-01, -1.07251367e+00,  7.61266985e-01,\n",
       "       -8.41980997e-01,  7.36892958e-01, -8.65096141e-01, -7.20342669e-02,\n",
       "        2.02931265e-01, -6.43831718e-01,  1.34387018e+00, -1.15493004e-01,\n",
       "       -1.79344293e+00, -9.06321312e-01, -1.73240343e+00, -7.01672624e-01,\n",
       "       -1.16793951e+00,  1.07588547e+00,  1.83656673e-02,  1.87500884e+00,\n",
       "       -5.38658659e-01,  9.77154270e-01,  2.07368135e-01,  7.77397406e-01,\n",
       "        2.26790692e-01,  2.96812157e-01,  2.64069827e+00, -9.10908788e-01,\n",
       "       -1.42082183e+00,  7.30642125e-01, -5.44343519e-01,  5.65518451e-01,\n",
       "       -1.07628931e+00, -1.12408810e+00, -1.90982358e+00,  7.65071907e-01,\n",
       "       -1.56033370e+00,  3.54892843e-01,  4.55848257e-01,  4.36526299e-01,\n",
       "       -4.49784823e-01,  1.11477931e+00,  9.41103100e-02, -1.50751581e+00,\n",
       "       -1.02688592e+00, -2.47680532e-01,  1.42775018e+00,  2.96973528e-01,\n",
       "        3.81709478e-01, -1.15302908e+00, -2.87753023e-01,  1.32452594e+00,\n",
       "        1.57714434e+00,  1.31366568e+00,  1.71591134e+00,  1.08797341e-01,\n",
       "        1.49590729e+00,  2.13335425e-01,  1.51805249e+00,  1.02817153e+00,\n",
       "        6.50525962e-01, -7.20392140e-02,  1.07730171e+00, -5.92365440e-01,\n",
       "        1.86275456e-01, -7.02896762e-01,  5.54137119e-01,  2.27794239e+00,\n",
       "        4.86163000e-01,  1.08753972e-01,  1.00479779e-01,  8.67543828e-01,\n",
       "        2.29527704e+00, -3.17524630e-01, -1.88496678e+00,  6.01658569e-01,\n",
       "       -1.69860081e-01,  1.13651365e+00, -3.01599249e-01, -9.37141417e-01,\n",
       "        1.34400834e+00,  1.42875047e+00,  1.28773084e+00, -2.86842447e-01,\n",
       "       -1.54755746e+00, -2.92947422e+00,  7.82791121e-01,  4.53504463e-01,\n",
       "       -2.50657336e-01, -5.84572230e-01, -8.18733482e-01,  2.62213957e-01,\n",
       "       -9.09239965e-01, -5.14374320e-01, -1.10664934e+00,  8.73584638e-02,\n",
       "       -3.17253302e-01, -1.49733885e+00,  1.06271485e+00,  1.54562247e-01,\n",
       "       -8.29685672e-01, -1.55754105e-01,  8.76546294e-01, -7.62256773e-01,\n",
       "       -6.33813363e-01,  1.34450979e+00, -4.30389183e-01,  7.08227762e-01,\n",
       "       -1.16376894e+00, -3.98732215e-02,  1.16016451e+00,  6.70024166e-02,\n",
       "        1.18763124e-01,  1.07067830e+00, -5.42397346e-01, -3.23307104e-02,\n",
       "        1.96543781e-01,  1.58109900e+00,  2.56227510e+00, -8.27592155e-01,\n",
       "        3.83638762e-01, -1.04588580e+00, -5.11083927e-01,  9.69264287e-01,\n",
       "        1.91232720e+00,  1.16398105e+00, -4.61918953e-01, -5.32926045e-01,\n",
       "       -1.83522308e+00,  3.41553924e-01, -1.15112137e+00, -1.28274621e+00,\n",
       "        1.29623048e+00, -1.04757053e+00,  5.06733457e-01, -8.30660974e-02,\n",
       "       -7.06554302e-01,  1.45940194e+00,  8.56067739e-01,  9.57863398e-01,\n",
       "       -6.23886108e-01, -3.17223629e-01,  2.90344521e-01,  1.85368835e+00,\n",
       "       -2.38765068e-01,  6.99536649e-01,  1.71131832e+00,  5.62659954e-02,\n",
       "       -6.75682445e-02,  5.73454297e-01,  4.89116277e-01, -2.78970350e-01,\n",
       "       -4.31816462e-01,  8.44097160e-01,  1.03526626e+00, -5.57234115e-01,\n",
       "        6.50620787e-01, -1.21311641e+00,  4.54452378e-01,  3.17263767e-01,\n",
       "        8.75591335e-01,  1.72248216e-01,  2.93685812e+00, -5.79235265e-01,\n",
       "        4.53537290e-01,  4.35012884e-01,  6.57656956e-01,  1.58239582e-02,\n",
       "        6.84575523e-01, -1.63865840e+00,  1.14967078e+00, -2.36712396e+00,\n",
       "       -4.91089470e-01, -4.29212572e-01,  6.18195792e-01, -9.76175303e-01,\n",
       "        8.05902412e-02,  4.00645826e-01,  8.12302601e-01, -1.47886472e+00,\n",
       "        1.02256443e+00,  1.59170049e+00, -1.61898853e-02, -4.17586646e-01,\n",
       "        4.37168636e-01, -1.50203435e+00,  6.50610403e-01, -2.29910420e-01,\n",
       "       -7.98547875e-01, -7.25999027e-01,  1.34138115e+00, -1.30440236e+00,\n",
       "        9.62477775e-01, -8.91529517e-01, -1.27862766e+00,  7.36274750e-01,\n",
       "        3.55719478e-01,  1.02681620e-01,  9.28618892e-01, -6.98339602e-01,\n",
       "        1.44868616e+00, -9.65524446e-01,  2.06705681e+00, -6.72039755e-01,\n",
       "       -2.12635350e-02, -8.18340736e-01,  9.88471826e-01, -8.52436852e-02,\n",
       "        1.72718246e+00, -5.29248157e-01, -2.49475796e-01,  3.10973991e+00,\n",
       "        6.62190638e-02,  3.87461172e-01,  8.21572636e-01,  1.19319240e+00,\n",
       "        1.93605765e+00, -1.86994482e+00, -1.73045521e+00,  9.66100169e-01,\n",
       "        4.39992658e-01, -1.18280028e-01, -6.80826612e-01, -8.47143869e-01,\n",
       "       -1.24722726e+00,  8.09336945e-01,  1.73290998e+00, -1.30729478e+00,\n",
       "       -4.79485111e-01, -1.11033868e+00, -1.21253901e+00,  1.27301941e+00,\n",
       "       -7.59146760e-01, -1.09047612e+00,  1.31790733e+00, -5.08936358e-01,\n",
       "        9.96477108e-01,  3.66614813e-01, -8.01893817e-01, -1.09013726e+00,\n",
       "        1.68496850e-01,  4.97510508e-01, -1.95157491e+00, -2.01298354e-01,\n",
       "        3.08617662e-02, -1.22701331e+00, -1.07187111e+00,  4.19460522e-01,\n",
       "        1.54169293e+00, -5.49782780e-01, -1.87704526e-01, -2.51085724e-01,\n",
       "       -2.54430175e+00, -1.56585487e+00, -8.21612695e-01,  1.51724233e+00,\n",
       "       -3.31067081e-02,  2.71650456e-01, -3.58988312e-01,  1.07775754e+00,\n",
       "       -2.74704650e-02,  1.56718927e+00, -1.41645278e+00,  1.45361030e+00,\n",
       "       -2.13634957e+00, -8.89272178e-01, -3.89883324e-01,  3.17903715e-01,\n",
       "        1.03348404e+00,  2.57613120e-02, -1.12813669e+00,  2.90074411e+00,\n",
       "        3.42312967e-01,  6.30569627e-01,  1.09269173e+00,  4.69302811e-02,\n",
       "        1.13708832e+00,  2.02859816e+00, -2.04256781e-01, -1.18904816e+00,\n",
       "        5.82385987e-01, -2.23526722e-01,  1.70181661e+00,  8.23396408e-01,\n",
       "        3.89980518e-01,  7.66534485e-01,  6.02641357e-01, -4.40106349e-01,\n",
       "        1.83702975e+00, -1.22043878e+00,  4.84276127e-01, -7.36696374e-01,\n",
       "       -3.23467590e-02, -2.21318747e-01,  7.95656350e-01, -5.92479543e-01,\n",
       "        1.70259382e+00,  1.17293997e+00,  1.40213386e+00,  1.94568533e-01,\n",
       "        8.51282088e-01, -6.13918966e-01,  1.13719383e-01,  3.99017425e-01,\n",
       "        2.75630253e-01,  7.57446887e-01, -9.00514279e-01, -7.87391429e-02,\n",
       "        7.95024154e-01,  1.03752883e+00,  1.03626169e+00, -9.94440200e-01,\n",
       "       -2.37107989e+00,  1.21216047e+00, -1.16012910e+00, -4.43843881e-01,\n",
       "       -9.43927344e-01,  7.77494439e-01,  2.20561374e+00,  1.35076316e+00,\n",
       "        3.57202362e-01,  1.32944582e-01, -3.00470987e+00,  9.34916103e-01,\n",
       "        1.40829379e+00,  3.01272451e-03, -9.39165499e-01, -1.76173187e+00,\n",
       "       -6.16105617e-01,  3.41821153e-01,  9.93064341e-01, -2.08791577e-01,\n",
       "       -6.69151347e-01, -1.02350320e+00,  6.96222680e-01,  1.21699750e+00,\n",
       "       -1.50673870e-01, -1.11164874e-01, -5.16295873e-01,  8.44977120e-01,\n",
       "        1.21001692e-01,  4.51089012e-02,  1.11756174e-01, -4.99312654e-01,\n",
       "        1.29877386e+00,  1.13913970e+00,  2.81883807e+00, -1.48400957e+00,\n",
       "        8.11558183e-02,  1.02504812e+00,  1.14437879e+00,  2.02959753e+00,\n",
       "        1.91140608e+00,  4.45764395e-01,  9.34221662e-01, -1.76419756e-01,\n",
       "        7.67850590e-02, -4.29354536e-01, -1.34992552e-02,  3.13904029e-01,\n",
       "       -9.48143627e-01, -8.08579026e-02,  2.12897826e+00,  9.42969058e-01,\n",
       "       -9.08200027e-01,  1.46198189e-01, -1.44191641e+00, -1.13065123e+00,\n",
       "        4.43124347e-01, -1.09005001e+00, -1.56129891e-01, -1.04224241e+00,\n",
       "        2.08410876e+00,  8.48907307e-01, -4.38360328e-01,  1.69210717e-01,\n",
       "       -4.10322622e-01, -2.15526399e-01,  7.94398042e-01, -1.18231338e+00,\n",
       "       -1.31751318e+00,  3.76595817e-02,  1.01547713e+00, -7.26401058e-01,\n",
       "        1.36989148e+00, -1.87180326e-01, -4.99808025e-01,  1.21986668e+00,\n",
       "       -2.07964587e-01,  1.37084782e+00,  1.64342490e+00, -9.52365660e-02,\n",
       "       -2.06973693e+00, -1.13307593e+00,  4.82372782e-02, -9.24493256e-01,\n",
       "        6.69368061e-01, -7.99186594e-01,  6.00653390e-01,  3.59216645e-01,\n",
       "        2.85341806e-01,  1.04154739e+00,  3.29510703e-01, -2.49833108e-01,\n",
       "       -7.14952512e-01, -9.07490401e-01, -1.37658924e-01,  1.52991021e+00,\n",
       "       -7.88334253e-01, -2.49662386e-02,  1.22583751e+00, -1.95451862e+00,\n",
       "       -1.86764871e-01,  9.28112954e-01,  1.06131777e+00, -3.23104914e-01,\n",
       "        6.95700522e-01,  4.87998533e-01, -1.29546674e+00,  2.25817612e+00,\n",
       "        7.04529423e-01, -2.88865384e-03,  9.78522584e-01, -1.61268900e+00,\n",
       "        1.05465116e+00, -1.22218769e+00,  3.15942123e-01, -7.12163651e-01,\n",
       "       -6.33265936e-01, -2.86522046e-01,  5.83057995e-01,  1.92842026e-01,\n",
       "        6.04391280e-01, -5.83788716e-01,  1.63701687e+00,  1.03547145e+00,\n",
       "        7.91806830e-01, -1.92897664e-01,  1.12502073e+00,  1.55835581e+00,\n",
       "       -1.16622399e+00, -1.94982716e+00, -2.93585397e-01,  1.71525277e-01,\n",
       "        8.33303069e-01,  1.17322749e+00,  1.37996203e+00,  1.49396412e+00,\n",
       "        9.80365792e-01,  4.88822251e-01,  2.74835154e-01, -1.43933836e+00,\n",
       "        7.27551727e-02,  1.45366917e+00,  3.69649965e-01,  7.92503818e-02,\n",
       "        1.57837360e+00, -1.07592979e+00, -1.77181694e+00, -8.51035086e-01,\n",
       "        1.92467777e+00, -1.56327269e+00,  5.68645758e-01,  8.93026652e-01,\n",
       "       -3.57920237e-01, -3.23140426e-01, -2.87073228e-01,  1.67764285e+00,\n",
       "        8.27792835e-01,  1.08271822e+00,  7.34923758e-01, -9.84785561e-01,\n",
       "       -4.29928752e-01,  9.73310066e-02, -8.45282065e-01,  1.79563699e-01,\n",
       "        1.10813913e+00, -4.22762494e-01,  1.05096957e+00, -1.84578079e+00,\n",
       "        2.08695642e+00,  1.59192959e+00, -1.19169325e+00, -4.14145396e-01,\n",
       "       -3.15959713e-01, -1.18807139e+00,  8.24489150e-01,  8.73147120e-02,\n",
       "       -5.40032154e-01,  8.49367477e-01, -1.75405674e+00,  8.54814221e-01,\n",
       "       -1.28324965e+00,  1.11569534e+00, -3.44209985e-01, -2.85104427e-01,\n",
       "       -7.63825083e-01,  1.42047179e-01, -1.14312403e+00, -1.03894587e+00,\n",
       "        4.04812135e-01, -9.76798667e-01, -1.35208771e-01,  3.40360496e-01,\n",
       "       -2.76531724e-01,  1.68036458e+00, -1.23096117e+00,  2.44398222e+00,\n",
       "        8.43754489e-01, -1.38666105e+00, -2.12125579e+00,  1.37593129e+00,\n",
       "        6.48399465e-01, -1.73621035e+00,  4.46388013e-01, -1.79017648e-01,\n",
       "        2.85996303e-01, -3.34086469e-01, -2.24131947e-01, -1.65197116e+00,\n",
       "        2.54105812e+00,  5.99473712e-01,  9.72676248e-01, -1.56759371e+00,\n",
       "        2.90891661e-01, -8.58458291e-02,  1.33782940e+00,  1.15425570e+00,\n",
       "       -7.63341621e-02, -2.11361387e-02, -3.71854483e-01,  1.33872169e+00,\n",
       "        3.51227713e-01,  2.41811346e-01, -1.81597252e-03,  3.66393723e-01,\n",
       "       -2.66774126e+00, -4.09076989e-01, -2.15235692e-01,  4.22368160e-01,\n",
       "       -5.79213102e-01, -5.27133863e-02, -1.59713348e-01, -1.70895938e+00,\n",
       "       -1.80100443e+00,  2.75329539e-01, -5.84296496e-02, -1.26012465e+00,\n",
       "        6.04959453e-01,  3.13423689e-01,  3.36238605e-01,  5.65012174e-01,\n",
       "        4.49551127e-01, -1.02690560e-01, -3.28897955e-01,  1.44660364e+00,\n",
       "        1.06377139e+00,  1.71875085e+00, -2.48790548e-01,  1.96367737e+00,\n",
       "        4.64899418e-01, -5.70280151e-01,  9.06133656e-01,  1.06442919e+00,\n",
       "       -9.32568339e-01,  7.65696408e-01,  1.65982191e+00, -3.85550053e-01,\n",
       "       -1.27829545e+00,  3.67484000e-01, -9.72638824e-02,  2.78674233e+00,\n",
       "       -1.40650365e-01, -6.42732423e-01,  2.44088023e-02, -1.68202376e+00,\n",
       "        5.48160737e-01, -1.05226580e+00, -3.41693831e-01,  9.67769489e-01,\n",
       "        3.42189705e-01,  9.89307748e-01,  1.64438362e-01, -2.12679059e+00,\n",
       "        8.37190511e-01,  1.81970542e-01, -3.87187171e-01,  4.69907980e-03,\n",
       "        3.47050299e-01,  3.33817849e-01, -1.21608588e-01, -8.79358957e-01,\n",
       "        9.47730015e-02, -1.23697800e-01, -9.97199541e-01, -1.25670227e+00,\n",
       "        9.02829845e-01, -1.32045398e+00,  6.17714915e-01, -1.63886168e+00,\n",
       "        1.84767434e-01,  9.30757527e-01,  4.43686284e-01, -5.04485314e-01,\n",
       "        2.02819260e-01,  9.63821626e-01, -6.50571672e-01, -1.73659545e-01,\n",
       "       -1.95481560e+00, -5.30880159e-01,  4.65873163e-01,  3.02933858e-01,\n",
       "        1.44088413e+00, -7.28515658e-01, -1.52516562e-01,  4.71136112e-01,\n",
       "        1.11250485e+00,  5.53042973e-01,  4.27053765e-01,  7.79909619e-01,\n",
       "        1.20961321e-01,  1.36162231e-01, -9.63387738e-01,  4.47633715e-01,\n",
       "       -1.06396880e+00, -1.06327404e+00, -2.23480361e-01, -9.64106417e-01,\n",
       "        1.05513327e+00, -9.41888741e-01, -6.89495596e-01, -1.35623018e+00,\n",
       "       -1.00739510e+00, -1.06040450e+00, -6.50566325e-01, -1.53776336e-01,\n",
       "        4.44029383e-01,  4.58726815e-03, -1.59612779e+00,  1.53022860e-01])"
      ]
     },
     "execution_count": 3,
     "metadata": {},
     "output_type": "execute_result"
    }
   ],
   "source": [
    "# TODO: use numpy to create a numpy array of 1000 values following a gaussian distribution (use no other parameter)\n",
    "array = np.random.normal(size=1000)\n",
    "array"
   ]
  },
  {
   "cell_type": "code",
   "execution_count": 4,
   "metadata": {},
   "outputs": [
    {
     "data": {
      "image/png": "[encoded data removed]",
      "text/plain": [
       "<Figure size 432x288 with 1 Axes>"
      ]
     },
     "metadata": {},
     "output_type": "display_data"
    }
   ],
   "source": [
    "# TODO: plot the previous distribution as a histogram\n",
    "plt.hist(x=array)\n",
    "plt.show()"
   ]
  },
  {
   "cell_type": "code",
   "execution_count": 5,
   "metadata": {},
   "outputs": [
    {
     "data": {
      "text/plain": [
       "(1.0028766244009961, 0.031746676467410403)"
      ]
     },
     "execution_count": 5,
     "metadata": {},
     "output_type": "execute_result"
    }
   ],
   "source": [
    "# TODO: compute the mean and standard deviation of the previous distribution\n",
    "std = np.std(array)\n",
    "mean = np.mean(array)\n",
    "(std,mean)"
   ]
  },
  {
   "cell_type": "markdown",
   "metadata": {},
   "source": [
    "As you can see, the standard gaussian distribution has a mean value close to 0 and a standard deviation close to 1."
   ]
  },
  {
   "cell_type": "markdown",
   "metadata": {},
   "source": [
    "- Now let's make our own implementation of the gaussian distribution. The formula of the gaussian function is the following:\n",
    "\n",
    "$gauss(x)=e^{-{\\frac {1}{2}}\\left({\\frac {x-\\mu }{\\sigma }}\\right)^{2}}$"
   ]
  },
  {
   "cell_type": "code",
   "execution_count": 6,
   "metadata": {},
   "outputs": [
    {
     "data": {
      "image/png": "[encoded data removed]",
      "text/plain": [
       "<Figure size 432x288 with 1 Axes>"
      ]
     },
     "metadata": {},
     "output_type": "display_data"
    }
   ],
   "source": [
    "# TODO: write a function gauss taking three parameters (x, mu, sigma) that computes and returns the gaussian function\n",
    "\n",
    "def gauss(x, mu, sigma):\n",
    "    return np.exp(-1/2 *(x-mu/sigma)*2)\n",
    "result = gauss(array, std, mean)\n",
    "plt.hist(result)\n",
    "plt.show()"
   ]
  },
  {
   "cell_type": "code",
   "execution_count": 8,
   "metadata": {},
   "outputs": [],
   "source": [
    "# TODO: Now using numpy create an array called x of values from -5 to 5 with a step of 0.1\n",
    "x = np.arange(-5, 5,0.1)"
   ]
  },
  {
   "cell_type": "code",
   "execution_count": 9,
   "metadata": {},
   "outputs": [],
   "source": [
    "# TODO: Compute the gaussian values of the previous array with mu = 0 and sigma = 1\n",
    "r = gauss(x,0,1)"
   ]
  },
  {
   "cell_type": "code",
   "execution_count": 10,
   "metadata": {
    "scrolled": true
   },
   "outputs": [
    {
     "data": {
      "image/png": "[encoded data removed]",
      "text/plain": [
       "<Figure size 432x288 with 1 Axes>"
      ]
     },
     "metadata": {},
     "output_type": "display_data"
    }
   ],
   "source": [
    "# TODO: plot the values of our gaussian function\n",
    "plt.hist(r)\n",
    "plt.show()"
   ]
  },
  {
   "cell_type": "markdown",
   "metadata": {},
   "source": [
    "Congratulations, we have made our own gaussian function! Feel free to play with the mean value $\\mu$ and the standard deviation $\\sigma$ and see how it changes the shape!"
   ]
  }
 ],
 "metadata": {
  "kernelspec": {
   "display_name": "Python 3",
   "language": "python",
   "name": "python3"
  },
  "language_info": {
   "codemirror_mode": {
    "name": "ipython",
    "version": 3
   },
   "file_extension": ".py",
   "mimetype": "text/x-python",
   "name": "python",
   "nbconvert_exporter": "python",
   "pygments_lexer": "ipython3",
   "version": "3.6.5"
  }
 },
 "nbformat": 4,
 "nbformat_minor": 2
}
