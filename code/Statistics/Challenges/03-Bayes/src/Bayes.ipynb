"""
Let's make a very typical exercise using Bayes theorem: the medical test.

Suppose you want to test yourself for having a really rare disease. This diseases occurs randomly for 1 person over a million in the population.

The test on the market is correct 99% of the time. So basically it means that if you are sick, it will tell you so 99% of the time; if you're not sick it will tell you so 99% of the time.

Now let's assume the test is positive, so it says you're sick. What is the probability that you're actually sick?

Think about it, speak with your mates, and then use Bayes theorem to find it out by yourself! You can input your calculations directly in your ipython console.
"""
