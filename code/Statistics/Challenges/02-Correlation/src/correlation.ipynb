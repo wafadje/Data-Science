{
 "cells": [
  {
   "cell_type": "markdown",
   "metadata": {},
   "source": [
    "# 03-05\n",
    "\n",
    "# Challenge 02 - Correlation\n",
    "![](https://3qeqpr26caki16dnhd19sv6by6v-wpengine.netdna-ssl.com/wp-content/uploads/2018/03/Scatter-plot-of-the-test-correlation-dataset.png)"
   ]
  },
  {
   "cell_type": "markdown",
   "metadata": {},
   "source": [
    "We will here explore our own correlations, and take this opportunity to speak about causality a bit."
   ]
  },
  {
   "cell_type": "code",
   "execution_count": 1,
   "metadata": {},
   "outputs": [],
   "source": [
    "# TODO: import numpy and matplotlib\n",
    "import numpy as np\n",
    "from matplotlib import pyplot as plt"
   ]
  },
  {
   "cell_type": "markdown",
   "metadata": {},
   "source": [
    "We will explore the correlation between the rain and umbrella sales.\n",
    "\n",
    "Create two numpy arrays called rain and umbrella with the following values:\n"
   ]
  },
  {
   "cell_type": "markdown",
   "metadata": {},
   "source": [
    "Rain (mm): 1.42, 1.64, 1.19, 1.52, 1.85, 2.21, 1.94, 2.51, 2.34, 1.81, 2.26, 1.72\n",
    "Umbrella sales (€): 215, 325, 185, 332, 406, 522, 412, 614, 544, 421, 445, 408"
   ]
  },
  {
   "cell_type": "code",
   "execution_count": 2,
   "metadata": {},
   "outputs": [],
   "source": [
    "# TODO: Create the two numpy arrays with the given values\n",
    "rain = np.array([1.42, 1.64, 1.19, 1.52, 1.85, 2.21, 1.94, 2.51, 2.34, 1.81, 2.26, 1.72])\n",
    "umberlla_sales = np.array([215, 325, 185, 332, 406, 522, 412, 614, 544, 421, 445, 408])"
   ]
  },
  {
   "cell_type": "code",
   "execution_count": 10,
   "metadata": {},
   "outputs": [
    {
     "data": {
      "image/png": "[encoded data removed]",
      "text/plain": [
       "<Figure size 432x288 with 1 Axes>"
      ]
     },
     "metadata": {},
     "output_type": "display_data"
    }
   ],
   "source": [
    "# TODO: Now plot one array versus the other one\n",
    "plt.scatter(umberlla_sales, rain)\n",
    "plt.show()"
   ]
  },
  {
   "cell_type": "markdown",
   "metadata": {},
   "source": [
    "From this plot, would you say there is a correlation between rain and umbrella sales? What kind of correlation (positive, negative, weak, strong...)?\n",
    "\n",
    "Let's compute the correlation values and see if you're guess is right!\n",
    "\n",
    "The formula to compute the correlation is the following:\n",
    "\n",
    "$\\rho(x,y)=\\frac{mean((mean(x)-x)\\times(mean(y)-y)}{std(x)\\times std(y)} $"
   ]
  },
  {
   "cell_type": "code",
   "execution_count": 8,
   "metadata": {},
   "outputs": [
    {
     "data": {
      "text/plain": [
       "0.9575066230015953"
      ]
     },
     "execution_count": 8,
     "metadata": {},
     "output_type": "execute_result"
    }
   ],
   "source": [
    "# TODO: Compute and print the correlation rho between rain and umbrella sales\n",
    "rho = (np.mean((np.mean(rain) - rain) * (np.mean(umberlla_sales)-umberlla_sales)))/(np.std(rain) * np.std(umberlla_sales))\n",
    "rho"
   ]
  },
  {
   "cell_type": "markdown",
   "metadata": {},
   "source": [
    "You should get a correlation value of about 0.9575. Was your interpretation of the plot correct at the light of this value?"
   ]
  },
  {
   "cell_type": "markdown",
   "metadata": {},
   "source": [
    "Now we had a couple of more rainy days and our data has been augmented. The new arrays are given below:"
   ]
  },
  {
   "cell_type": "code",
   "execution_count": 13,
   "metadata": {},
   "outputs": [],
   "source": [
    "more_rain = np.array([1.42,1.64,1.19,1.52,1.85,2.21,1.94,2.51,2.34,1.81,2.26,1.72,2.81,3.15,3.33,3.53,3.58,3.68,3.8,4.02,4.16])\n",
    "more_umbrella = np.array([215,325,185,332,406,522,412,614,544,421,445,408,583,595,403,481,408,306,302,287,213])"
   ]
  },
  {
   "cell_type": "code",
   "execution_count": 15,
   "metadata": {},
   "outputs": [
    {
     "data": {
      "image/png": "[encoded data removed]",
      "text/plain": [
       "<Figure size 432x288 with 1 Axes>"
      ]
     },
     "metadata": {},
     "output_type": "display_data"
    }
   ],
   "source": [
    "# TODO: Plot the rain values versus the umbrella sales of the new data\n",
    "plt.scatter(more_umbrella, more_rain)\n",
    "plt.show()"
   ]
  },
  {
   "cell_type": "markdown",
   "metadata": {},
   "source": [
    "What would you say about this data? Is there a correlation? Let's now compute the correlation value and see is you're right"
   ]
  },
  {
   "cell_type": "code",
   "execution_count": 17,
   "metadata": {},
   "outputs": [
    {
     "data": {
      "text/plain": [
       "0.02966648720099339"
      ]
     },
     "execution_count": 17,
     "metadata": {},
     "output_type": "execute_result"
    }
   ],
   "source": [
    "# TODO: Compute and print the correlation of more_rain and more_umbrella\n",
    "\n",
    "rho = (np.mean((np.mean(more_rain) - more_rain) * (np.mean(more_umbrella)-more_umbrella)))/(np.std(more_rain) * np.std(more_umbrella))\n",
    "rho"
   ]
  },
  {
   "cell_type": "markdown",
   "metadata": {},
   "source": [
    "You should get a correlation value of about 0.029, meaning there is a very weak correlation... What does it mean to you?"
   ]
  },
  {
   "cell_type": "markdown",
   "metadata": {},
   "source": [
    "Now let's consider back our first data of umbrella sales. Now create a new numpy array of sunglasses sales for the same days with the following data:\n",
    "\n",
    "`Sunglasses sales : 305, 218, 317, 223, 173, 78, 162, 19, 78, 138, 135, 168`\n",
    "\n",
    "And the plot the sunglasses sales versus the umbrella sales."
   ]
  },
  {
   "cell_type": "code",
   "execution_count": 20,
   "metadata": {},
   "outputs": [
    {
     "data": {
      "image/png": "[encoded data removed]",
      "text/plain": [
       "<Figure size 432x288 with 1 Axes>"
      ]
     },
     "metadata": {},
     "output_type": "display_data"
    }
   ],
   "source": [
    "# TODO: Create a numpy array sunglasses with the data in the table above and plot \n",
    "sunglasses_sales = np.array([305, 218, 317, 223, 173, 78, 162, 19, 78, 138, 135, 168]) \n",
    "plt.scatter(sunglasses_sales, umberlla_sales)\n",
    "plt.show()"
   ]
  },
  {
   "cell_type": "markdown",
   "metadata": {},
   "source": [
    "What would you say about this plot? Is there a correlation? If yes, what kind of correlation? Then let's compute it!"
   ]
  },
  {
   "cell_type": "code",
   "execution_count": 21,
   "metadata": {},
   "outputs": [
    {
     "data": {
      "text/plain": [
       "-0.9966209381121731"
      ]
     },
     "execution_count": 21,
     "metadata": {},
     "output_type": "execute_result"
    }
   ],
   "source": [
    "# TODO: compute the correlation between the umbrella and sunglasses sales\n",
    "rho = (np.mean((np.mean(sunglasses_sales) - sunglasses_sales) * (np.mean(umberlla_sales)-umberlla_sales)))/(np.std(sunglasses_sales) * np.std(umberlla_sales))\n",
    "rho"
   ]
  },
  {
   "cell_type": "markdown",
   "metadata": {},
   "source": [
    "Is this value in agreement with your interpretation of the plot? Now what does this value mean? Is there a causality between the sunglasses and umbrella sales?"
   ]
  },
  {
   "cell_type": "markdown",
   "metadata": {},
   "source": [
    "Many things can cause a correlation, not always causality! A correlation might mean that one thing involves the other. But it can alsop mean there is a common cause the two correlated data. And sometimes, there can be a spurious correlation... A good list of spurious correlations can be found [here](http://tylervigen.com/spurious-correlations)"
   ]
  }
 ],
 "metadata": {
  "kernelspec": {
   "display_name": "Python 3",
   "language": "python",
   "name": "python3"
  },
  "language_info": {
   "codemirror_mode": {
    "name": "ipython",
    "version": 3
   },
   "file_extension": ".py",
   "mimetype": "text/x-python",
   "name": "python",
   "nbconvert_exporter": "python",
   "pygments_lexer": "ipython3",
   "version": "3.6.5"
  }
 },
 "nbformat": 4,
 "nbformat_minor": 2
}
