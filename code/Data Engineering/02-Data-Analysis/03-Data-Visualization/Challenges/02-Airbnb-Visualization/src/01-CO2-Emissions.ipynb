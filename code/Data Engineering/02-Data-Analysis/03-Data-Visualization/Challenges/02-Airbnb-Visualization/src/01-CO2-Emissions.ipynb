{
 "cells": [
  {
   "cell_type": "markdown",
   "metadata": {},
   "source": [
    "# Visualizing CO2 Emissions 🌎"
   ]
  },
  {
   "cell_type": "markdown",
   "metadata": {},
   "source": [
    "<img src=\"https://static1.squarespace.com/static/55cce2c6e4b0513a93e643d0/55d637fde4b0a862eed666ae/5703efa1859fd07e226b5d19/1523291953647/YouthCamp2018BG.jpg?format=1500w\" />\n",
    "\n",
    "Photo by [Noah Silliman](https://unsplash.com/@noahsilliman)"
   ]
  },
  {
   "cell_type": "markdown",
   "metadata": {},
   "source": [
    "---"
   ]
  },
  {
   "cell_type": "markdown",
   "metadata": {},
   "source": [
    "Today we will work with CO2 emissions data of all countries worldwide."
   ]
  },
  {
   "cell_type": "markdown",
   "metadata": {},
   "source": [
    "**Q1**. Load the dataset `CO2_per_capita.csv` into a **Pandas Dataframe**. What does this dataset contain?"
   ]
  },
  {
   "cell_type": "code",
   "execution_count": 25,
   "metadata": {},
   "outputs": [
    {
     "data": {
      "text/html": [
       "<div>\n",
       "<style scoped>\n",
       "    .dataframe tbody tr th:only-of-type {\n",
       "        vertical-align: middle;\n",
       "    }\n",
       "\n",
       "    .dataframe tbody tr th {\n",
       "        vertical-align: top;\n",
       "    }\n",
       "\n",
       "    .dataframe thead th {\n",
       "        text-align: right;\n",
       "    }\n",
       "</style>\n",
       "<table border=\"1\" class=\"dataframe\">\n",
       "  <thead>\n",
       "    <tr style=\"text-align: right;\">\n",
       "      <th></th>\n",
       "      <th>Country Name</th>\n",
       "      <th>Country Code</th>\n",
       "      <th>Year</th>\n",
       "      <th>CO2 Per Capita (metric tons)</th>\n",
       "    </tr>\n",
       "  </thead>\n",
       "  <tbody>\n",
       "    <tr>\n",
       "      <th>0</th>\n",
       "      <td>Aruba</td>\n",
       "      <td>ABW</td>\n",
       "      <td>1960</td>\n",
       "      <td>NaN</td>\n",
       "    </tr>\n",
       "    <tr>\n",
       "      <th>1</th>\n",
       "      <td>Aruba</td>\n",
       "      <td>ABW</td>\n",
       "      <td>1961</td>\n",
       "      <td>NaN</td>\n",
       "    </tr>\n",
       "    <tr>\n",
       "      <th>2</th>\n",
       "      <td>Aruba</td>\n",
       "      <td>ABW</td>\n",
       "      <td>1962</td>\n",
       "      <td>NaN</td>\n",
       "    </tr>\n",
       "    <tr>\n",
       "      <th>3</th>\n",
       "      <td>Aruba</td>\n",
       "      <td>ABW</td>\n",
       "      <td>1963</td>\n",
       "      <td>NaN</td>\n",
       "    </tr>\n",
       "    <tr>\n",
       "      <th>4</th>\n",
       "      <td>Aruba</td>\n",
       "      <td>ABW</td>\n",
       "      <td>1964</td>\n",
       "      <td>NaN</td>\n",
       "    </tr>\n",
       "    <tr>\n",
       "      <th>5</th>\n",
       "      <td>Aruba</td>\n",
       "      <td>ABW</td>\n",
       "      <td>1965</td>\n",
       "      <td>NaN</td>\n",
       "    </tr>\n",
       "    <tr>\n",
       "      <th>6</th>\n",
       "      <td>Aruba</td>\n",
       "      <td>ABW</td>\n",
       "      <td>1966</td>\n",
       "      <td>NaN</td>\n",
       "    </tr>\n",
       "    <tr>\n",
       "      <th>7</th>\n",
       "      <td>Aruba</td>\n",
       "      <td>ABW</td>\n",
       "      <td>1967</td>\n",
       "      <td>NaN</td>\n",
       "    </tr>\n",
       "  </tbody>\n",
       "</table>\n",
       "</div>"
      ],
      "text/plain": [
       "  Country Name Country Code  Year  CO2 Per Capita (metric tons)\n",
       "0        Aruba          ABW  1960                           NaN\n",
       "1        Aruba          ABW  1961                           NaN\n",
       "2        Aruba          ABW  1962                           NaN\n",
       "3        Aruba          ABW  1963                           NaN\n",
       "4        Aruba          ABW  1964                           NaN\n",
       "5        Aruba          ABW  1965                           NaN\n",
       "6        Aruba          ABW  1966                           NaN\n",
       "7        Aruba          ABW  1967                           NaN"
      ]
     },
     "execution_count": 25,
     "metadata": {},
     "output_type": "execute_result"
    }
   ],
   "source": [
    "# TODO: Load and describe dataset\n",
    "import pandas as pd\n",
    "df = pd.read_csv('CO2_per_capita.csv', sep = \";\")\n",
    "df[:8]"
   ]
  },
  {
   "cell_type": "markdown",
   "metadata": {},
   "source": [
    "**Q2**. What questions could be interesting to answer with the available data? Which charts would you use to answer those questions?\n",
    "\n",
    "> 🔦 **Hint**: When thinking about what visualizations could bring interesting insights, do not hesitate to start \"wireframing\" those charts on paper."
   ]
  },
  {
   "cell_type": "markdown",
   "metadata": {},
   "source": [
    "# How are gas emissions evolving? "
   ]
  },
  {
   "cell_type": "markdown",
   "metadata": {},
   "source": [
    "TODO: answer question in Markdown\n"
   ]
  },
  {
   "cell_type": "markdown",
   "metadata": {},
   "source": [
    "**Q3**. We are going to answer the question: **which countries have the highest CO2 emissions per capita lately?**\n",
    "- Think about how what chart could answer this question efficiently\n",
    "- Think about how the data should be transformed in order to draw this chart\n",
    "- Transform your data accordingly"
   ]
  },
  {
   "cell_type": "code",
   "execution_count": 4,
   "metadata": {},
   "outputs": [],
   "source": [
    "# TODO: Transform your data so that you can easily plot it\n",
    "import matplotlib.pyplot as plt\n",
    "\n",
    "plt.figure(figsize=(10,5))\n",
    "x=df['Year']\n",
    "y=df['CO2 Per Capita (metric tons)']\n",
    "\n",
    "plt.bar(x=x, height=y)\n",
    "\n",
    "plt.show()"
   ]
  },
  {
   "cell_type": "markdown",
   "metadata": {},
   "source": [
    "**Q4**. Draw your chart with `seaborn` library and answer the original question."
   ]
  },
  {
   "cell_type": "code",
   "execution_count": 48,
   "metadata": {
    "scrolled": false
   },
   "outputs": [
    {
     "data": {
      "image/png": "[encoded data removed]",
      "text/plain": [
       "<Figure size 720x360 with 1 Axes>"
      ]
     },
     "metadata": {},
     "output_type": "display_data"
    }
   ],
   "source": [
    "# TODO: Visualize your properly transformed dataframe\n",
    "import seaborn as sns\n",
    "\n",
    "plt.figure(figsize=(10,5))\n",
    "x=df['Year']\n",
    "y=df['CO2 Per Capita (metric tons)']\n",
    "\n",
    "sns.barplot(x=x, y=y, data=df)\n",
    "\n",
    "plt.show()"
   ]
  },
  {
   "cell_type": "markdown",
   "metadata": {},
   "source": [
    "**54**. Are the annual emissions per capita decreasing over time in France? in Thailand? \n",
    "\n",
    "> 🔦 **Hint**: Again, you should follow the same process as before:\n",
    "> - which chart can answer my question?\n",
    "> - what data do I need to draw this chart?\n",
    "> - get the data and draw the chart\n",
    "\n",
    "What can your say about CO2 emissions in these countries?"
   ]
  },
  {
   "cell_type": "code",
   "execution_count": 67,
   "metadata": {
    "scrolled": false
   },
   "outputs": [
    {
     "data": {
      "text/plain": [
       "<Figure size 720x360 with 0 Axes>"
      ]
     },
     "metadata": {},
     "output_type": "display_data"
    },
    {
     "data": {
      "image/png": "[encoded data removed]",
      "text/plain": [
       "<Figure size 720x360 with 1 Axes>"
      ]
     },
     "metadata": {},
     "output_type": "display_data"
    }
   ],
   "source": [
    "# TODO: Evolution of annual emissions per capita\n",
    "plt.figure(figsize=(10,5))\n",
    "f = df.loc[df['Country Name'] == 'France']\n",
    "t = df.loc[df['Country Name'] == 'Thailand']\n",
    "\n",
    "a = pd.concat([f, t], axis=0)\n",
    "\n",
    "plt.figure(figsize=(10,5))\n",
    "x=a['Country Name']\n",
    "y=a['CO2 Per Capita (metric tons)']\n",
    "\n",
    "sns.barplot(x=x, y=y, data=df)\n",
    "\n",
    "plt.show()"
   ]
  },
  {
   "cell_type": "markdown",
   "metadata": {},
   "source": [
    "**Q6 [bonus]**. This one is bonus, come back to this question if you finish other challenges early. 😝\n",
    "\n",
    "Have a look at `folium` library, and use it to visualize CO2 emissions per capita data on a World map.\n",
    "\n",
    "> 🔦 **Hints**:\n",
    "> - You can **create a map** this way:\n",
    ">     ``` python\n",
    ">     import folium\n",
    ">     m = folium.Map()\n",
    ">     ```\n",
    "> - You can **add a circle on the map** like this:\n",
    ">     ``` python\n",
    ">     folium.Circle(\n",
    ">         location=[longitude, latitude],\n",
    ">         popup=name,\n",
    ">         radius=100\n",
    ">     ).add_to(m)\n",
    ">     ```\n",
    "> - You will also need the function `get_boundingbox_country` below, that will give you the longitude and latitude of a country based on it's name (if you inspect the function, you will see it's a simple function requesting an API - you remember I hope 🔌 - to get the information)."
   ]
  },
  {
   "cell_type": "code",
   "execution_count": 10,
   "metadata": {},
   "outputs": [
    {
     "name": "stdout",
     "output_type": "stream",
     "text": [
      "Coordinates of France are long=46.603354 and lat=1.8883335\n"
     ]
    }
   ],
   "source": [
    "# This function is useful to answer bonus question\n",
    "import requests\n",
    "\n",
    "def get_boundingbox_country(country, output_as='boundingbox'):\n",
    "    \"\"\"\n",
    "    get the bounding box of a country in EPSG4326 given a country name\n",
    "\n",
    "    Parameters\n",
    "    ----------\n",
    "    country : str\n",
    "        name of the country in english and lowercase\n",
    "    output_as : 'str\n",
    "        chose from 'boundingbox' or 'center'. \n",
    "         - 'boundingbox' for [latmin, latmax, lonmin, lonmax]\n",
    "         - 'center' for [latcenter, loncenter]\n",
    "\n",
    "    Returns\n",
    "    -------\n",
    "    output : list\n",
    "        list with coordinates as str\n",
    "    \"\"\"\n",
    "    # create url\n",
    "    url = '{0}{1}{2}'.format('http://nominatim.openstreetmap.org/search?country=',\n",
    "                             country,\n",
    "                             '&format=json&polygon=0')\n",
    "    response = requests.get(url).json()[0]\n",
    "\n",
    "    # parse response to list\n",
    "    if output_as == 'boundingbox':\n",
    "        lst = response[output_as]\n",
    "        output = [float(i) for i in lst]\n",
    "    if output_as == 'center':\n",
    "        lst = [response.get(key) for key in ['lat','lon']]\n",
    "        output = [float(i) for i in lst]\n",
    "    return output\n",
    "\n",
    "# Example\n",
    "print(\"Coordinates of France are long={} and lat={}\".format(\n",
    "            get_boundingbox_country(\"France\", output_as=\"center\")[0],\n",
    "            get_boundingbox_country(\"France\", output_as=\"center\")[1]))"
   ]
  },
  {
   "cell_type": "code",
   "execution_count": 9,
   "metadata": {
    "scrolled": true
   },
   "outputs": [],
   "source": [
    "# TODO: Visualize your data on a World map\n"
   ]
  }
 ],
 "metadata": {
  "kernelspec": {
   "display_name": "Python 3",
   "language": "python",
   "name": "python3"
  },
  "language_info": {
   "codemirror_mode": {
    "name": "ipython",
    "version": 3
   },
   "file_extension": ".py",
   "mimetype": "text/x-python",
   "name": "python",
   "nbconvert_exporter": "python",
   "pygments_lexer": "ipython3",
   "version": "3.6.5"
  }
 },
 "nbformat": 4,
 "nbformat_minor": 2
}
